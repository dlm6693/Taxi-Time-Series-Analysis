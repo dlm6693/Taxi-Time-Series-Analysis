{
 "cells": [
  {
   "cell_type": "code",
   "execution_count": 1,
   "metadata": {},
   "outputs": [],
   "source": [
    "import pandas as pd\n",
    "from sodapy import Socrata"
   ]
  },
  {
   "cell_type": "code",
   "execution_count": 2,
   "metadata": {},
   "outputs": [],
   "source": [
    "client = Socrata('data.cityofnewyork.us',\n",
    "                 'BKagDL8jmsAK9QhB9PoS22K05',\n",
    "                 username=\"dlm6693@gmail.com\",\n",
    "                 password=\"*Verboten1*\")"
   ]
  },
  {
   "cell_type": "code",
   "execution_count": 4,
   "metadata": {},
   "outputs": [],
   "source": [
    "_2014 = client.get(\"gkne-dk5s\", limit=100000)\n",
    "df_2014 = pd.DataFrame.from_records(_2014)"
   ]
  },
  {
   "cell_type": "code",
   "execution_count": 5,
   "metadata": {},
   "outputs": [
    {
     "data": {
      "text/html": [
       "<div>\n",
       "<style scoped>\n",
       "    .dataframe tbody tr th:only-of-type {\n",
       "        vertical-align: middle;\n",
       "    }\n",
       "\n",
       "    .dataframe tbody tr th {\n",
       "        vertical-align: top;\n",
       "    }\n",
       "\n",
       "    .dataframe thead th {\n",
       "        text-align: right;\n",
       "    }\n",
       "</style>\n",
       "<table border=\"1\" class=\"dataframe\">\n",
       "  <thead>\n",
       "    <tr style=\"text-align: right;\">\n",
       "      <th></th>\n",
       "      <th>dropoff_datetime</th>\n",
       "      <th>dropoff_latitude</th>\n",
       "      <th>dropoff_longitude</th>\n",
       "      <th>fare_amount</th>\n",
       "      <th>imp_surcharge</th>\n",
       "      <th>mta_tax</th>\n",
       "      <th>passenger_count</th>\n",
       "      <th>payment_type</th>\n",
       "      <th>pickup_datetime</th>\n",
       "      <th>pickup_latitude</th>\n",
       "      <th>pickup_longitude</th>\n",
       "      <th>rate_code</th>\n",
       "      <th>store_and_fwd_flag</th>\n",
       "      <th>tip_amount</th>\n",
       "      <th>tolls_amount</th>\n",
       "      <th>total_amount</th>\n",
       "      <th>trip_distance</th>\n",
       "      <th>vendor_id</th>\n",
       "    </tr>\n",
       "  </thead>\n",
       "  <tbody>\n",
       "    <tr>\n",
       "      <th>0</th>\n",
       "      <td>2014-11-17T09:23:00.000</td>\n",
       "      <td>40.749471999999997</td>\n",
       "      <td>-74.004257999999993</td>\n",
       "      <td>11.5</td>\n",
       "      <td>0</td>\n",
       "      <td>0.5</td>\n",
       "      <td>1</td>\n",
       "      <td>CRD</td>\n",
       "      <td>2014-11-17T09:11:00.000</td>\n",
       "      <td>40.722447000000003</td>\n",
       "      <td>-73.997045</td>\n",
       "      <td>1</td>\n",
       "      <td>NaN</td>\n",
       "      <td>2</td>\n",
       "      <td>0</td>\n",
       "      <td>14</td>\n",
       "      <td>2.5800000000000001</td>\n",
       "      <td>VTS</td>\n",
       "    </tr>\n",
       "    <tr>\n",
       "      <th>1</th>\n",
       "      <td>2014-08-21T12:27:36.000</td>\n",
       "      <td>0</td>\n",
       "      <td>0</td>\n",
       "      <td>9</td>\n",
       "      <td>0</td>\n",
       "      <td>0.5</td>\n",
       "      <td>1</td>\n",
       "      <td>CSH</td>\n",
       "      <td>2014-08-21T12:17:09.000</td>\n",
       "      <td>0</td>\n",
       "      <td>0</td>\n",
       "      <td>1</td>\n",
       "      <td>N</td>\n",
       "      <td>0</td>\n",
       "      <td>0</td>\n",
       "      <td>9.5</td>\n",
       "      <td>1.5</td>\n",
       "      <td>CMT</td>\n",
       "    </tr>\n",
       "    <tr>\n",
       "      <th>2</th>\n",
       "      <td>2014-02-27T02:52:00.000</td>\n",
       "      <td>40.741337000000001</td>\n",
       "      <td>-74.004059999999996</td>\n",
       "      <td>10.5</td>\n",
       "      <td>0.5</td>\n",
       "      <td>0.5</td>\n",
       "      <td>1</td>\n",
       "      <td>CSH</td>\n",
       "      <td>2014-02-27T02:43:00.000</td>\n",
       "      <td>40.767155000000002</td>\n",
       "      <td>-73.995632999999998</td>\n",
       "      <td>1</td>\n",
       "      <td>NaN</td>\n",
       "      <td>0</td>\n",
       "      <td>0</td>\n",
       "      <td>11.5</td>\n",
       "      <td>2.4700000000000002</td>\n",
       "      <td>VTS</td>\n",
       "    </tr>\n",
       "    <tr>\n",
       "      <th>3</th>\n",
       "      <td>2014-07-30T17:35:00.000</td>\n",
       "      <td>40.776269999999997</td>\n",
       "      <td>-73.947737000000004</td>\n",
       "      <td>12.5</td>\n",
       "      <td>1</td>\n",
       "      <td>0.5</td>\n",
       "      <td>1</td>\n",
       "      <td>CSH</td>\n",
       "      <td>2014-07-30T17:20:00.000</td>\n",
       "      <td>40.767164999999999</td>\n",
       "      <td>-73.983168000000006</td>\n",
       "      <td>1</td>\n",
       "      <td>NaN</td>\n",
       "      <td>0</td>\n",
       "      <td>0</td>\n",
       "      <td>14</td>\n",
       "      <td>2.8900000000000001</td>\n",
       "      <td>VTS</td>\n",
       "    </tr>\n",
       "    <tr>\n",
       "      <th>4</th>\n",
       "      <td>2014-06-09T13:37:39.000</td>\n",
       "      <td>40.750438000000003</td>\n",
       "      <td>-73.991573000000002</td>\n",
       "      <td>16</td>\n",
       "      <td>0</td>\n",
       "      <td>0.5</td>\n",
       "      <td>1</td>\n",
       "      <td>CRD</td>\n",
       "      <td>2014-06-09T13:13:26.000</td>\n",
       "      <td>40.774476999999997</td>\n",
       "      <td>-73.963832999999994</td>\n",
       "      <td>1</td>\n",
       "      <td>N</td>\n",
       "      <td>0</td>\n",
       "      <td>0</td>\n",
       "      <td>16.5</td>\n",
       "      <td>2.6000000000000001</td>\n",
       "      <td>CMT</td>\n",
       "    </tr>\n",
       "  </tbody>\n",
       "</table>\n",
       "</div>"
      ],
      "text/plain": [
       "          dropoff_datetime    dropoff_latitude    dropoff_longitude  \\\n",
       "0  2014-11-17T09:23:00.000  40.749471999999997  -74.004257999999993   \n",
       "1  2014-08-21T12:27:36.000                   0                    0   \n",
       "2  2014-02-27T02:52:00.000  40.741337000000001  -74.004059999999996   \n",
       "3  2014-07-30T17:35:00.000  40.776269999999997  -73.947737000000004   \n",
       "4  2014-06-09T13:37:39.000  40.750438000000003  -73.991573000000002   \n",
       "\n",
       "  fare_amount imp_surcharge mta_tax passenger_count payment_type  \\\n",
       "0        11.5             0     0.5               1          CRD   \n",
       "1           9             0     0.5               1          CSH   \n",
       "2        10.5           0.5     0.5               1          CSH   \n",
       "3        12.5             1     0.5               1          CSH   \n",
       "4          16             0     0.5               1          CRD   \n",
       "\n",
       "           pickup_datetime     pickup_latitude     pickup_longitude rate_code  \\\n",
       "0  2014-11-17T09:11:00.000  40.722447000000003           -73.997045         1   \n",
       "1  2014-08-21T12:17:09.000                   0                    0         1   \n",
       "2  2014-02-27T02:43:00.000  40.767155000000002  -73.995632999999998         1   \n",
       "3  2014-07-30T17:20:00.000  40.767164999999999  -73.983168000000006         1   \n",
       "4  2014-06-09T13:13:26.000  40.774476999999997  -73.963832999999994         1   \n",
       "\n",
       "  store_and_fwd_flag tip_amount tolls_amount total_amount       trip_distance  \\\n",
       "0                NaN          2            0           14  2.5800000000000001   \n",
       "1                  N          0            0          9.5                 1.5   \n",
       "2                NaN          0            0         11.5  2.4700000000000002   \n",
       "3                NaN          0            0           14  2.8900000000000001   \n",
       "4                  N          0            0         16.5  2.6000000000000001   \n",
       "\n",
       "  vendor_id  \n",
       "0       VTS  \n",
       "1       CMT  \n",
       "2       VTS  \n",
       "3       VTS  \n",
       "4       CMT  "
      ]
     },
     "execution_count": 5,
     "metadata": {},
     "output_type": "execute_result"
    }
   ],
   "source": [
    "df_2014.head()"
   ]
  },
  {
   "cell_type": "code",
   "execution_count": 6,
   "metadata": {},
   "outputs": [],
   "source": [
    "_2015 = client.get(\"2yzn-sicd\", limit=100000)\n",
    "df_2015 = pd.DataFrame.from_records(_2015)"
   ]
  },
  {
   "cell_type": "code",
   "execution_count": 7,
   "metadata": {},
   "outputs": [
    {
     "data": {
      "text/html": [
       "<div>\n",
       "<style scoped>\n",
       "    .dataframe tbody tr th:only-of-type {\n",
       "        vertical-align: middle;\n",
       "    }\n",
       "\n",
       "    .dataframe tbody tr th {\n",
       "        vertical-align: top;\n",
       "    }\n",
       "\n",
       "    .dataframe thead th {\n",
       "        text-align: right;\n",
       "    }\n",
       "</style>\n",
       "<table border=\"1\" class=\"dataframe\">\n",
       "  <thead>\n",
       "    <tr style=\"text-align: right;\">\n",
       "      <th></th>\n",
       "      <th>dropoff_datetime</th>\n",
       "      <th>dropoff_latitude</th>\n",
       "      <th>dropoff_longitude</th>\n",
       "      <th>extra</th>\n",
       "      <th>fare_amount</th>\n",
       "      <th>mta_tax</th>\n",
       "      <th>passenger_count</th>\n",
       "      <th>payment_type</th>\n",
       "      <th>pickup_datetime</th>\n",
       "      <th>pickup_latitude</th>\n",
       "      <th>pickup_longitude</th>\n",
       "      <th>rate_code</th>\n",
       "      <th>store_and_fwd_flag</th>\n",
       "      <th>tip_amount</th>\n",
       "      <th>tolls_amount</th>\n",
       "      <th>total_amount</th>\n",
       "      <th>trip_distance</th>\n",
       "      <th>vendor_id</th>\n",
       "    </tr>\n",
       "  </thead>\n",
       "  <tbody>\n",
       "    <tr>\n",
       "      <th>0</th>\n",
       "      <td>2015-03-02T08:41:33.000</td>\n",
       "      <td>40.754978179931641</td>\n",
       "      <td>-73.974334716796875</td>\n",
       "      <td>0</td>\n",
       "      <td>21.5</td>\n",
       "      <td>0.5</td>\n",
       "      <td>1</td>\n",
       "      <td>1</td>\n",
       "      <td>2015-03-02T08:20:02.000</td>\n",
       "      <td>40.707408905029297</td>\n",
       "      <td>-74.017158508300781</td>\n",
       "      <td>1</td>\n",
       "      <td>N</td>\n",
       "      <td>4.45</td>\n",
       "      <td>0</td>\n",
       "      <td>26.75</td>\n",
       "      <td>6.1</td>\n",
       "      <td>1</td>\n",
       "    </tr>\n",
       "    <tr>\n",
       "      <th>1</th>\n",
       "      <td>2015-01-26T07:13:06.000</td>\n",
       "      <td>40.765113830566406</td>\n",
       "      <td>-73.982109069824219</td>\n",
       "      <td>0</td>\n",
       "      <td>5.5</td>\n",
       "      <td>0.5</td>\n",
       "      <td>1</td>\n",
       "      <td>1</td>\n",
       "      <td>2015-01-26T07:08:41.000</td>\n",
       "      <td>40.779911041259766</td>\n",
       "      <td>-73.977043151855469</td>\n",
       "      <td>1</td>\n",
       "      <td>N</td>\n",
       "      <td>1.25</td>\n",
       "      <td>0</td>\n",
       "      <td>7.55</td>\n",
       "      <td>1.1</td>\n",
       "      <td>1</td>\n",
       "    </tr>\n",
       "    <tr>\n",
       "      <th>2</th>\n",
       "      <td>2015-05-17T15:18:41.000</td>\n",
       "      <td>40.771308898925781</td>\n",
       "      <td>-73.965721130371094</td>\n",
       "      <td>0</td>\n",
       "      <td>8.5</td>\n",
       "      <td>0.5</td>\n",
       "      <td>1</td>\n",
       "      <td>1</td>\n",
       "      <td>2015-05-17T15:09:46.000</td>\n",
       "      <td>40.748706817626953</td>\n",
       "      <td>-73.979934692382813</td>\n",
       "      <td>1</td>\n",
       "      <td>N</td>\n",
       "      <td>2.79</td>\n",
       "      <td>0</td>\n",
       "      <td>12.09</td>\n",
       "      <td>1.87</td>\n",
       "      <td>2</td>\n",
       "    </tr>\n",
       "    <tr>\n",
       "      <th>3</th>\n",
       "      <td>2015-02-07T10:21:03.000</td>\n",
       "      <td>40.726711273193359</td>\n",
       "      <td>-73.992691040039063</td>\n",
       "      <td>0</td>\n",
       "      <td>5</td>\n",
       "      <td>0.5</td>\n",
       "      <td>2</td>\n",
       "      <td>1</td>\n",
       "      <td>2015-02-07T10:17:33.000</td>\n",
       "      <td>40.735588073730469</td>\n",
       "      <td>-73.982536315917969</td>\n",
       "      <td>1</td>\n",
       "      <td>N</td>\n",
       "      <td>1.2</td>\n",
       "      <td>0</td>\n",
       "      <td>7</td>\n",
       "      <td>0.9</td>\n",
       "      <td>1</td>\n",
       "    </tr>\n",
       "    <tr>\n",
       "      <th>4</th>\n",
       "      <td>2015-02-27T17:49:48.000</td>\n",
       "      <td>40.731475830078125</td>\n",
       "      <td>-74.002212524414063</td>\n",
       "      <td>1</td>\n",
       "      <td>21</td>\n",
       "      <td>0.5</td>\n",
       "      <td>1</td>\n",
       "      <td>1</td>\n",
       "      <td>2015-02-27T17:21:58.000</td>\n",
       "      <td>40.758155822753906</td>\n",
       "      <td>-73.962806701660156</td>\n",
       "      <td>1</td>\n",
       "      <td>N</td>\n",
       "      <td>4.55</td>\n",
       "      <td>0</td>\n",
       "      <td>27.35</td>\n",
       "      <td>4.7</td>\n",
       "      <td>1</td>\n",
       "    </tr>\n",
       "  </tbody>\n",
       "</table>\n",
       "</div>"
      ],
      "text/plain": [
       "          dropoff_datetime    dropoff_latitude    dropoff_longitude extra  \\\n",
       "0  2015-03-02T08:41:33.000  40.754978179931641  -73.974334716796875     0   \n",
       "1  2015-01-26T07:13:06.000  40.765113830566406  -73.982109069824219     0   \n",
       "2  2015-05-17T15:18:41.000  40.771308898925781  -73.965721130371094     0   \n",
       "3  2015-02-07T10:21:03.000  40.726711273193359  -73.992691040039063     0   \n",
       "4  2015-02-27T17:49:48.000  40.731475830078125  -74.002212524414063     1   \n",
       "\n",
       "  fare_amount mta_tax passenger_count payment_type          pickup_datetime  \\\n",
       "0        21.5     0.5               1            1  2015-03-02T08:20:02.000   \n",
       "1         5.5     0.5               1            1  2015-01-26T07:08:41.000   \n",
       "2         8.5     0.5               1            1  2015-05-17T15:09:46.000   \n",
       "3           5     0.5               2            1  2015-02-07T10:17:33.000   \n",
       "4          21     0.5               1            1  2015-02-27T17:21:58.000   \n",
       "\n",
       "      pickup_latitude     pickup_longitude rate_code store_and_fwd_flag  \\\n",
       "0  40.707408905029297  -74.017158508300781         1                  N   \n",
       "1  40.779911041259766  -73.977043151855469         1                  N   \n",
       "2  40.748706817626953  -73.979934692382813         1                  N   \n",
       "3  40.735588073730469  -73.982536315917969         1                  N   \n",
       "4  40.758155822753906  -73.962806701660156         1                  N   \n",
       "\n",
       "  tip_amount tolls_amount total_amount trip_distance vendor_id  \n",
       "0       4.45            0        26.75           6.1         1  \n",
       "1       1.25            0         7.55           1.1         1  \n",
       "2       2.79            0        12.09          1.87         2  \n",
       "3        1.2            0            7           0.9         1  \n",
       "4       4.55            0        27.35           4.7         1  "
      ]
     },
     "execution_count": 7,
     "metadata": {},
     "output_type": "execute_result"
    }
   ],
   "source": [
    "df_2015.head()"
   ]
  },
  {
   "cell_type": "code",
   "execution_count": 17,
   "metadata": {},
   "outputs": [
    {
     "data": {
      "text/plain": [
       "Index(['extra', 'fare_amount'], dtype='object')"
      ]
     },
     "execution_count": 17,
     "metadata": {},
     "output_type": "execute_result"
    }
   ],
   "source": [
    "df_2015.columns[df_2015.columns!= df_2014.columns]"
   ]
  },
  {
   "cell_type": "code",
   "execution_count": 18,
   "metadata": {},
   "outputs": [
    {
     "data": {
      "text/plain": [
       "Index(['fare_amount', 'extra'], dtype='object')"
      ]
     },
     "execution_count": 18,
     "metadata": {},
     "output_type": "execute_result"
    }
   ],
   "source": [
    "df_2014.columns[df_2014.columns!= df_2015.columns]"
   ]
  },
  {
   "cell_type": "code",
   "execution_count": 15,
   "metadata": {
    "scrolled": true
   },
   "outputs": [
    {
     "data": {
      "text/plain": [
       "(0       51599\n",
       " 0.5     34003\n",
       " 1       14384\n",
       " -0.5       10\n",
       " -1          2\n",
       " 0.01        1\n",
       " 1.5         1\n",
       " Name: extra, dtype: int64, 0      50902\n",
       " 0.5    34818\n",
       " 1      14275\n",
       " 1.5        3\n",
       " 2          1\n",
       " 2.5        1\n",
       " Name: imp_surcharge, dtype: int64)"
      ]
     },
     "execution_count": 15,
     "metadata": {},
     "output_type": "execute_result"
    }
   ],
   "source": [
    "df_2015.extra.value_counts(), df_2014.imp_surcharge.value_counts()"
   ]
  },
  {
   "cell_type": "code",
   "execution_count": 16,
   "metadata": {},
   "outputs": [],
   "source": [
    "df_2014 = df_2014.rename(columns={'imp_surcharge':'extra', 'fare_amount':'fare_amount'})"
   ]
  },
  {
   "cell_type": "code",
   "execution_count": 41,
   "metadata": {},
   "outputs": [],
   "source": [
    "_2016 = client.get(\"uacg-pexx\", limit=99999)\n",
    "\n",
    "# Convert to pandas DataFrame\n",
    "df_2016 = pd.DataFrame.from_records(_2016)"
   ]
  },
  {
   "cell_type": "code",
   "execution_count": 60,
   "metadata": {},
   "outputs": [
    {
     "data": {
      "text/plain": [
       "0.3     99948\n",
       "-0.3       37\n",
       "0          14\n",
       "Name: improvement_surcharge, dtype: int64"
      ]
     },
     "execution_count": 60,
     "metadata": {},
     "output_type": "execute_result"
    }
   ],
   "source": [
    "df_2016.head()\n",
    "df_2016.improvement_surcharge.value_counts()"
   ]
  },
  {
   "cell_type": "code",
   "execution_count": 43,
   "metadata": {},
   "outputs": [
    {
     "data": {
      "text/plain": [
       "(19, 18)"
      ]
     },
     "execution_count": 43,
     "metadata": {},
     "output_type": "execute_result"
    }
   ],
   "source": [
    "len(df_2016.columns), len(df_2015.columns)"
   ]
  },
  {
   "cell_type": "code",
   "execution_count": 48,
   "metadata": {},
   "outputs": [
    {
     "data": {
      "text/plain": [
       "array([], dtype=object)"
      ]
     },
     "execution_count": 48,
     "metadata": {},
     "output_type": "execute_result"
    }
   ],
   "source": [
    "import numpy as np\n",
    "np.setdiff1d(df_2015.columns, df_2016.columns)"
   ]
  },
  {
   "cell_type": "code",
   "execution_count": 45,
   "metadata": {},
   "outputs": [
    {
     "data": {
      "text/plain": [
       "Index(['dropoff_latitude', 'dropoff_longitude', 'extra', 'fare_amount',\n",
       "       'improvement_surcharge', 'mta_tax', 'passenger_count', 'payment_type',\n",
       "       'pickup_latitude', 'pickup_longitude', 'ratecodeid',\n",
       "       'store_and_fwd_flag', 'tip_amount', 'tolls_amount', 'total_amount',\n",
       "       'tpep_dropoff_datetime', 'tpep_pickup_datetime', 'trip_distance',\n",
       "       'vendorid'],\n",
       "      dtype='object')"
      ]
     },
     "execution_count": 45,
     "metadata": {},
     "output_type": "execute_result"
    }
   ],
   "source": [
    "df_2016.columns"
   ]
  },
  {
   "cell_type": "code",
   "execution_count": 46,
   "metadata": {},
   "outputs": [
    {
     "data": {
      "text/plain": [
       "Index(['dropoff_datetime', 'dropoff_latitude', 'dropoff_longitude', 'extra',\n",
       "       'fare_amount', 'mta_tax', 'passenger_count', 'payment_type',\n",
       "       'pickup_datetime', 'pickup_latitude', 'pickup_longitude', 'rate_code',\n",
       "       'store_and_fwd_flag', 'tip_amount', 'tolls_amount', 'total_amount',\n",
       "       'trip_distance', 'vendor_id'],\n",
       "      dtype='object')"
      ]
     },
     "execution_count": 46,
     "metadata": {},
     "output_type": "execute_result"
    }
   ],
   "source": [
    "df_2015.columns"
   ]
  },
  {
   "cell_type": "code",
   "execution_count": 47,
   "metadata": {},
   "outputs": [],
   "source": [
    "df_2016 = df_2016.rename(columns={'vendorid':'vendor_id', 'ratecodeid':'rate_code', 'tpep_pickup_datetime':'pickup_datetime',\n",
    "                                 'tpep_dropoff_datetime':'dropoff_datetime'})"
   ]
  },
  {
   "cell_type": "code",
   "execution_count": 51,
   "metadata": {},
   "outputs": [
    {
     "data": {
      "text/html": [
       "<div>\n",
       "<style scoped>\n",
       "    .dataframe tbody tr th:only-of-type {\n",
       "        vertical-align: middle;\n",
       "    }\n",
       "\n",
       "    .dataframe tbody tr th {\n",
       "        vertical-align: top;\n",
       "    }\n",
       "\n",
       "    .dataframe thead th {\n",
       "        text-align: right;\n",
       "    }\n",
       "</style>\n",
       "<table border=\"1\" class=\"dataframe\">\n",
       "  <thead>\n",
       "    <tr style=\"text-align: right;\">\n",
       "      <th></th>\n",
       "      <th>dolocationid</th>\n",
       "      <th>extra</th>\n",
       "      <th>fare_amount</th>\n",
       "      <th>improvement_surcharge</th>\n",
       "      <th>mta_tax</th>\n",
       "      <th>passenger_count</th>\n",
       "      <th>payment_type</th>\n",
       "      <th>pulocationid</th>\n",
       "      <th>ratecodeid</th>\n",
       "      <th>store_and_fwd_flag</th>\n",
       "      <th>tip_amount</th>\n",
       "      <th>tolls_amount</th>\n",
       "      <th>total_amount</th>\n",
       "      <th>tpep_dropoff_datetime</th>\n",
       "      <th>tpep_pickup_datetime</th>\n",
       "      <th>trip_distance</th>\n",
       "      <th>vendorid</th>\n",
       "    </tr>\n",
       "  </thead>\n",
       "  <tbody>\n",
       "    <tr>\n",
       "      <th>0</th>\n",
       "      <td>132</td>\n",
       "      <td>0</td>\n",
       "      <td>42</td>\n",
       "      <td>0.3</td>\n",
       "      <td>0.5</td>\n",
       "      <td>4</td>\n",
       "      <td>1</td>\n",
       "      <td>255</td>\n",
       "      <td>1</td>\n",
       "      <td>N</td>\n",
       "      <td>6.5</td>\n",
       "      <td>0</td>\n",
       "      <td>49.3</td>\n",
       "      <td>2017-12-17T14:13:57.000</td>\n",
       "      <td>2017-12-17T13:39:34.000</td>\n",
       "      <td>15.12</td>\n",
       "      <td>2</td>\n",
       "    </tr>\n",
       "    <tr>\n",
       "      <th>1</th>\n",
       "      <td>230</td>\n",
       "      <td>0</td>\n",
       "      <td>41</td>\n",
       "      <td>0.3</td>\n",
       "      <td>0.5</td>\n",
       "      <td>5</td>\n",
       "      <td>1</td>\n",
       "      <td>138</td>\n",
       "      <td>1</td>\n",
       "      <td>N</td>\n",
       "      <td>9.51</td>\n",
       "      <td>5.76</td>\n",
       "      <td>57.07</td>\n",
       "      <td>2017-12-17T13:58:59.000</td>\n",
       "      <td>2017-12-17T13:10:05.000</td>\n",
       "      <td>12.00</td>\n",
       "      <td>2</td>\n",
       "    </tr>\n",
       "    <tr>\n",
       "      <th>2</th>\n",
       "      <td>88</td>\n",
       "      <td>0</td>\n",
       "      <td>9</td>\n",
       "      <td>0.3</td>\n",
       "      <td>0.5</td>\n",
       "      <td>3</td>\n",
       "      <td>2</td>\n",
       "      <td>211</td>\n",
       "      <td>1</td>\n",
       "      <td>N</td>\n",
       "      <td>0</td>\n",
       "      <td>0</td>\n",
       "      <td>9.8</td>\n",
       "      <td>2017-12-17T13:25:48.000</td>\n",
       "      <td>2017-12-17T13:16:31.000</td>\n",
       "      <td>2.20</td>\n",
       "      <td>2</td>\n",
       "    </tr>\n",
       "    <tr>\n",
       "      <th>3</th>\n",
       "      <td>162</td>\n",
       "      <td>0</td>\n",
       "      <td>24</td>\n",
       "      <td>0.3</td>\n",
       "      <td>0.5</td>\n",
       "      <td>2</td>\n",
       "      <td>2</td>\n",
       "      <td>13</td>\n",
       "      <td>1</td>\n",
       "      <td>N</td>\n",
       "      <td>0</td>\n",
       "      <td>0</td>\n",
       "      <td>24.8</td>\n",
       "      <td>2017-12-17T13:56:31.000</td>\n",
       "      <td>2017-12-17T13:33:59.000</td>\n",
       "      <td>6.76</td>\n",
       "      <td>2</td>\n",
       "    </tr>\n",
       "    <tr>\n",
       "      <th>4</th>\n",
       "      <td>264</td>\n",
       "      <td>0</td>\n",
       "      <td>15.5</td>\n",
       "      <td>0.3</td>\n",
       "      <td>0.5</td>\n",
       "      <td>1</td>\n",
       "      <td>1</td>\n",
       "      <td>264</td>\n",
       "      <td>1</td>\n",
       "      <td>N</td>\n",
       "      <td>4.05</td>\n",
       "      <td>0</td>\n",
       "      <td>20.35</td>\n",
       "      <td>2017-12-17T13:50:54.000</td>\n",
       "      <td>2017-12-17T13:28:31.000</td>\n",
       "      <td>3.20</td>\n",
       "      <td>1</td>\n",
       "    </tr>\n",
       "  </tbody>\n",
       "</table>\n",
       "</div>"
      ],
      "text/plain": [
       "  dolocationid extra fare_amount improvement_surcharge mta_tax  \\\n",
       "0          132     0          42                   0.3     0.5   \n",
       "1          230     0          41                   0.3     0.5   \n",
       "2           88     0           9                   0.3     0.5   \n",
       "3          162     0          24                   0.3     0.5   \n",
       "4          264     0        15.5                   0.3     0.5   \n",
       "\n",
       "  passenger_count payment_type pulocationid ratecodeid store_and_fwd_flag  \\\n",
       "0               4            1          255          1                  N   \n",
       "1               5            1          138          1                  N   \n",
       "2               3            2          211          1                  N   \n",
       "3               2            2           13          1                  N   \n",
       "4               1            1          264          1                  N   \n",
       "\n",
       "  tip_amount tolls_amount total_amount    tpep_dropoff_datetime  \\\n",
       "0        6.5            0         49.3  2017-12-17T14:13:57.000   \n",
       "1       9.51         5.76        57.07  2017-12-17T13:58:59.000   \n",
       "2          0            0          9.8  2017-12-17T13:25:48.000   \n",
       "3          0            0         24.8  2017-12-17T13:56:31.000   \n",
       "4       4.05            0        20.35  2017-12-17T13:50:54.000   \n",
       "\n",
       "      tpep_pickup_datetime trip_distance vendorid  \n",
       "0  2017-12-17T13:39:34.000         15.12        2  \n",
       "1  2017-12-17T13:10:05.000         12.00        2  \n",
       "2  2017-12-17T13:16:31.000          2.20        2  \n",
       "3  2017-12-17T13:33:59.000          6.76        2  \n",
       "4  2017-12-17T13:28:31.000          3.20        1  "
      ]
     },
     "execution_count": 51,
     "metadata": {},
     "output_type": "execute_result"
    }
   ],
   "source": [
    "_2017 = client.get(\"biws-g3hs\", limit=10)\n",
    "\n",
    "# Convert to pandas DataFrame\n",
    "df_2017 = pd.DataFrame.from_records(_2017)\n",
    "df_2017.head()"
   ]
  },
  {
   "cell_type": "code",
   "execution_count": 53,
   "metadata": {},
   "outputs": [
    {
     "data": {
      "text/plain": [
       "Index(['dropoff_latitude', 'dropoff_longitude', 'extra', 'fare_amount',\n",
       "       'improvement_surcharge', 'mta_tax', 'passenger_count', 'payment_type',\n",
       "       'pickup_latitude', 'pickup_longitude', 'rate_code',\n",
       "       'store_and_fwd_flag', 'tip_amount', 'tolls_amount', 'total_amount',\n",
       "       'dropoff_datetime', 'pickup_datetime', 'trip_distance', 'vendor_id'],\n",
       "      dtype='object')"
      ]
     },
     "execution_count": 53,
     "metadata": {},
     "output_type": "execute_result"
    }
   ],
   "source": [
    "df_2016.columns"
   ]
  },
  {
   "cell_type": "code",
   "execution_count": 54,
   "metadata": {},
   "outputs": [
    {
     "name": "stderr",
     "output_type": "stream",
     "text": [
      "C:\\Users\\dlm66\\Anaconda3\\lib\\site-packages\\ipykernel_launcher.py:1: FutureWarning: Sorting because non-concatenation axis is not aligned. A future version\n",
      "of pandas will change to not sort by default.\n",
      "\n",
      "To accept the future behavior, pass 'sort=False'.\n",
      "\n",
      "To retain the current behavior and silence the warning, pass 'sort=True'.\n",
      "\n",
      "  \"\"\"Entry point for launching an IPython kernel.\n"
     ]
    }
   ],
   "source": [
    "data = pd.concat([df_2014,df_2015,df_2016])"
   ]
  },
  {
   "cell_type": "code",
   "execution_count": 55,
   "metadata": {},
   "outputs": [
    {
     "data": {
      "text/plain": [
       "299999"
      ]
     },
     "execution_count": 55,
     "metadata": {},
     "output_type": "execute_result"
    }
   ],
   "source": [
    "len(data)"
   ]
  },
  {
   "cell_type": "code",
   "execution_count": 56,
   "metadata": {},
   "outputs": [],
   "source": [
    "data = data.apply(pd.to_numeric, errors='ignore')"
   ]
  },
  {
   "cell_type": "code",
   "execution_count": 58,
   "metadata": {},
   "outputs": [],
   "source": [
    "data = data.query('tip_amount!=0')"
   ]
  },
  {
   "cell_type": "code",
   "execution_count": 59,
   "metadata": {},
   "outputs": [
    {
     "name": "stdout",
     "output_type": "stream",
     "text": [
      "<class 'pandas.core.frame.DataFrame'>\n",
      "Int64Index: 181898 entries, 0 to 99997\n",
      "Data columns (total 19 columns):\n",
      "dropoff_datetime         181898 non-null object\n",
      "dropoff_latitude         181898 non-null float64\n",
      "dropoff_longitude        181898 non-null float64\n",
      "extra                    181898 non-null float64\n",
      "fare_amount              181898 non-null float64\n",
      "improvement_surcharge    65012 non-null float64\n",
      "mta_tax                  181898 non-null float64\n",
      "passenger_count          181898 non-null int64\n",
      "payment_type             181898 non-null object\n",
      "pickup_datetime          181898 non-null object\n",
      "pickup_latitude          181898 non-null float64\n",
      "pickup_longitude         181898 non-null float64\n",
      "rate_code                181898 non-null int64\n",
      "store_and_fwd_flag       153067 non-null object\n",
      "tip_amount               181898 non-null float64\n",
      "tolls_amount             181898 non-null float64\n",
      "total_amount             181898 non-null float64\n",
      "trip_distance            181898 non-null float64\n",
      "vendor_id                181898 non-null object\n",
      "dtypes: float64(12), int64(2), object(5)\n",
      "memory usage: 27.8+ MB\n"
     ]
    }
   ],
   "source": [
    "data.info()"
   ]
  },
  {
   "cell_type": "code",
   "execution_count": 61,
   "metadata": {},
   "outputs": [],
   "source": [
    "data.drop(['improvement_surcharge','store_and_fwd_flag'], axis=1, inplace=True)"
   ]
  },
  {
   "cell_type": "code",
   "execution_count": 9,
   "metadata": {},
   "outputs": [
    {
     "data": {
      "text/plain": [
       "56375"
      ]
     },
     "execution_count": 9,
     "metadata": {},
     "output_type": "execute_result"
    }
   ],
   "source": [
    "len(results_df)"
   ]
  },
  {
   "cell_type": "code",
   "execution_count": 10,
   "metadata": {},
   "outputs": [
    {
     "data": {
      "text/plain": [
       "<matplotlib.axes._subplots.AxesSubplot at 0x193d3a23e10>"
      ]
     },
     "execution_count": 10,
     "metadata": {},
     "output_type": "execute_result"
    },
    {
     "data": {
      "image/png": "[encoded data removed]",
      "text/plain": [
       "<Figure size 432x288 with 1 Axes>"
      ]
     },
     "metadata": {
      "needs_background": "light"
     },
     "output_type": "display_data"
    }
   ],
   "source": [
    "import matplotlib.pyplot as plt\n",
    "import seaborn as sns\n",
    "%matplotlib inline\n",
    "sns.distplot(results_df.tip_amount)"
   ]
  },
  {
   "cell_type": "code",
   "execution_count": 12,
   "metadata": {},
   "outputs": [],
   "source": [
    "results_df.dropoff_datetime = pd.to_datetime(results_df.dropoff_datetime)"
   ]
  },
  {
   "cell_type": "code",
   "execution_count": 14,
   "metadata": {},
   "outputs": [],
   "source": [
    "results_df.pickup_datetime = pd.to_datetime(results_df.pickup_datetime)"
   ]
  },
  {
   "cell_type": "code",
   "execution_count": 15,
   "metadata": {},
   "outputs": [
    {
     "data": {
      "text/plain": [
       "<matplotlib.axes._subplots.AxesSubplot at 0x193d4306ac8>"
      ]
     },
     "execution_count": 15,
     "metadata": {},
     "output_type": "execute_result"
    },
    {
     "data": {
      "image/png": "[encoded data removed]",
      "text/plain": [
       "<Figure size 432x288 with 1 Axes>"
      ]
     },
     "metadata": {
      "needs_background": "light"
     },
     "output_type": "display_data"
    }
   ],
   "source": [
    "sns.distplot(results_df.fare_amount)"
   ]
  },
  {
   "cell_type": "code",
   "execution_count": 18,
   "metadata": {},
   "outputs": [
    {
     "data": {
      "text/html": [
       "<div>\n",
       "<style scoped>\n",
       "    .dataframe tbody tr th:only-of-type {\n",
       "        vertical-align: middle;\n",
       "    }\n",
       "\n",
       "    .dataframe tbody tr th {\n",
       "        vertical-align: top;\n",
       "    }\n",
       "\n",
       "    .dataframe thead th {\n",
       "        text-align: right;\n",
       "    }\n",
       "</style>\n",
       "<table border=\"1\" class=\"dataframe\">\n",
       "  <thead>\n",
       "    <tr style=\"text-align: right;\">\n",
       "      <th></th>\n",
       "      <th>dropoff_latitude</th>\n",
       "      <th>dropoff_longitude</th>\n",
       "      <th>fare_amount</th>\n",
       "      <th>imp_surcharge</th>\n",
       "      <th>mta_tax</th>\n",
       "      <th>passenger_count</th>\n",
       "      <th>pickup_latitude</th>\n",
       "      <th>pickup_longitude</th>\n",
       "      <th>rate_code</th>\n",
       "      <th>tip_amount</th>\n",
       "      <th>tolls_amount</th>\n",
       "      <th>total_amount</th>\n",
       "      <th>trip_distance</th>\n",
       "    </tr>\n",
       "    <tr>\n",
       "      <th>dropoff_datetime</th>\n",
       "      <th></th>\n",
       "      <th></th>\n",
       "      <th></th>\n",
       "      <th></th>\n",
       "      <th></th>\n",
       "      <th></th>\n",
       "      <th></th>\n",
       "      <th></th>\n",
       "      <th></th>\n",
       "      <th></th>\n",
       "      <th></th>\n",
       "      <th></th>\n",
       "      <th></th>\n",
       "    </tr>\n",
       "  </thead>\n",
       "  <tbody>\n",
       "    <tr>\n",
       "      <th>2014-01-31</th>\n",
       "      <td>40.097470</td>\n",
       "      <td>-72.790757</td>\n",
       "      <td>12.625532</td>\n",
       "      <td>0.327127</td>\n",
       "      <td>0.498701</td>\n",
       "      <td>1.671141</td>\n",
       "      <td>40.088069</td>\n",
       "      <td>-72.775635</td>\n",
       "      <td>1.034423</td>\n",
       "      <td>2.611407</td>\n",
       "      <td>0.282150</td>\n",
       "      <td>16.345776</td>\n",
       "      <td>3.003678</td>\n",
       "    </tr>\n",
       "    <tr>\n",
       "      <th>2014-02-28</th>\n",
       "      <td>40.090177</td>\n",
       "      <td>-72.778086</td>\n",
       "      <td>12.498624</td>\n",
       "      <td>0.325838</td>\n",
       "      <td>0.497864</td>\n",
       "      <td>1.667641</td>\n",
       "      <td>40.072429</td>\n",
       "      <td>-72.746703</td>\n",
       "      <td>1.034180</td>\n",
       "      <td>2.544093</td>\n",
       "      <td>0.268253</td>\n",
       "      <td>16.136229</td>\n",
       "      <td>2.904452</td>\n",
       "    </tr>\n",
       "    <tr>\n",
       "      <th>2014-03-31</th>\n",
       "      <td>40.052036</td>\n",
       "      <td>-72.709445</td>\n",
       "      <td>12.898144</td>\n",
       "      <td>0.333114</td>\n",
       "      <td>0.497838</td>\n",
       "      <td>1.679015</td>\n",
       "      <td>40.052483</td>\n",
       "      <td>-72.711277</td>\n",
       "      <td>1.038548</td>\n",
       "      <td>2.640190</td>\n",
       "      <td>0.308108</td>\n",
       "      <td>16.678138</td>\n",
       "      <td>3.083086</td>\n",
       "    </tr>\n",
       "    <tr>\n",
       "      <th>2014-04-30</th>\n",
       "      <td>39.978689</td>\n",
       "      <td>-72.581132</td>\n",
       "      <td>13.014390</td>\n",
       "      <td>0.335768</td>\n",
       "      <td>0.497667</td>\n",
       "      <td>1.653479</td>\n",
       "      <td>40.005932</td>\n",
       "      <td>-72.625094</td>\n",
       "      <td>1.038344</td>\n",
       "      <td>2.641264</td>\n",
       "      <td>0.331613</td>\n",
       "      <td>16.820903</td>\n",
       "      <td>3.088791</td>\n",
       "    </tr>\n",
       "    <tr>\n",
       "      <th>2014-05-31</th>\n",
       "      <td>39.868215</td>\n",
       "      <td>-72.373773</td>\n",
       "      <td>13.352174</td>\n",
       "      <td>0.315266</td>\n",
       "      <td>0.498744</td>\n",
       "      <td>1.656425</td>\n",
       "      <td>39.844335</td>\n",
       "      <td>-72.332421</td>\n",
       "      <td>1.032271</td>\n",
       "      <td>2.672895</td>\n",
       "      <td>0.334786</td>\n",
       "      <td>17.174823</td>\n",
       "      <td>3.152301</td>\n",
       "    </tr>\n",
       "    <tr>\n",
       "      <th>2014-06-30</th>\n",
       "      <td>39.634102</td>\n",
       "      <td>-71.950551</td>\n",
       "      <td>13.559467</td>\n",
       "      <td>0.328598</td>\n",
       "      <td>0.496993</td>\n",
       "      <td>1.663418</td>\n",
       "      <td>39.566120</td>\n",
       "      <td>-71.827344</td>\n",
       "      <td>1.039195</td>\n",
       "      <td>2.730610</td>\n",
       "      <td>0.367482</td>\n",
       "      <td>17.484384</td>\n",
       "      <td>3.223285</td>\n",
       "    </tr>\n",
       "    <tr>\n",
       "      <th>2014-07-31</th>\n",
       "      <td>39.823517</td>\n",
       "      <td>-72.293425</td>\n",
       "      <td>13.202773</td>\n",
       "      <td>0.337122</td>\n",
       "      <td>0.498409</td>\n",
       "      <td>1.645374</td>\n",
       "      <td>39.776586</td>\n",
       "      <td>-72.209666</td>\n",
       "      <td>1.033644</td>\n",
       "      <td>2.670384</td>\n",
       "      <td>0.317920</td>\n",
       "      <td>17.026608</td>\n",
       "      <td>3.201014</td>\n",
       "    </tr>\n",
       "    <tr>\n",
       "      <th>2014-08-31</th>\n",
       "      <td>39.943177</td>\n",
       "      <td>-72.512889</td>\n",
       "      <td>13.261599</td>\n",
       "      <td>0.338317</td>\n",
       "      <td>0.497709</td>\n",
       "      <td>1.663371</td>\n",
       "      <td>39.825056</td>\n",
       "      <td>-72.299971</td>\n",
       "      <td>1.036653</td>\n",
       "      <td>2.622636</td>\n",
       "      <td>0.311177</td>\n",
       "      <td>17.031437</td>\n",
       "      <td>3.203253</td>\n",
       "    </tr>\n",
       "    <tr>\n",
       "      <th>2014-09-30</th>\n",
       "      <td>40.088718</td>\n",
       "      <td>-72.777824</td>\n",
       "      <td>13.538130</td>\n",
       "      <td>0.325614</td>\n",
       "      <td>0.497307</td>\n",
       "      <td>1.639380</td>\n",
       "      <td>40.057252</td>\n",
       "      <td>-72.715414</td>\n",
       "      <td>1.043731</td>\n",
       "      <td>2.725418</td>\n",
       "      <td>0.296997</td>\n",
       "      <td>17.383466</td>\n",
       "      <td>3.123169</td>\n",
       "    </tr>\n",
       "    <tr>\n",
       "      <th>2014-10-31</th>\n",
       "      <td>40.160567</td>\n",
       "      <td>-72.905074</td>\n",
       "      <td>13.539792</td>\n",
       "      <td>0.316711</td>\n",
       "      <td>0.497659</td>\n",
       "      <td>1.629758</td>\n",
       "      <td>40.110782</td>\n",
       "      <td>-72.815756</td>\n",
       "      <td>1.038673</td>\n",
       "      <td>2.783576</td>\n",
       "      <td>0.363442</td>\n",
       "      <td>17.501181</td>\n",
       "      <td>3.243894</td>\n",
       "    </tr>\n",
       "    <tr>\n",
       "      <th>2014-11-30</th>\n",
       "      <td>40.143742</td>\n",
       "      <td>-72.874448</td>\n",
       "      <td>13.494660</td>\n",
       "      <td>0.291712</td>\n",
       "      <td>0.498360</td>\n",
       "      <td>1.691450</td>\n",
       "      <td>40.134937</td>\n",
       "      <td>-72.859456</td>\n",
       "      <td>1.037393</td>\n",
       "      <td>2.757321</td>\n",
       "      <td>0.352456</td>\n",
       "      <td>17.394509</td>\n",
       "      <td>3.148902</td>\n",
       "    </tr>\n",
       "    <tr>\n",
       "      <th>2014-12-31</th>\n",
       "      <td>40.071441</td>\n",
       "      <td>-72.687420</td>\n",
       "      <td>13.363090</td>\n",
       "      <td>0.321453</td>\n",
       "      <td>0.497609</td>\n",
       "      <td>1.675700</td>\n",
       "      <td>40.015100</td>\n",
       "      <td>-72.604147</td>\n",
       "      <td>1.037121</td>\n",
       "      <td>2.706798</td>\n",
       "      <td>0.309800</td>\n",
       "      <td>17.198750</td>\n",
       "      <td>3.097008</td>\n",
       "    </tr>\n",
       "  </tbody>\n",
       "</table>\n",
       "</div>"
      ],
      "text/plain": [
       "                  dropoff_latitude  dropoff_longitude  fare_amount  \\\n",
       "dropoff_datetime                                                     \n",
       "2014-01-31               40.097470         -72.790757    12.625532   \n",
       "2014-02-28               40.090177         -72.778086    12.498624   \n",
       "2014-03-31               40.052036         -72.709445    12.898144   \n",
       "2014-04-30               39.978689         -72.581132    13.014390   \n",
       "2014-05-31               39.868215         -72.373773    13.352174   \n",
       "2014-06-30               39.634102         -71.950551    13.559467   \n",
       "2014-07-31               39.823517         -72.293425    13.202773   \n",
       "2014-08-31               39.943177         -72.512889    13.261599   \n",
       "2014-09-30               40.088718         -72.777824    13.538130   \n",
       "2014-10-31               40.160567         -72.905074    13.539792   \n",
       "2014-11-30               40.143742         -72.874448    13.494660   \n",
       "2014-12-31               40.071441         -72.687420    13.363090   \n",
       "\n",
       "                  imp_surcharge   mta_tax  passenger_count  pickup_latitude  \\\n",
       "dropoff_datetime                                                              \n",
       "2014-01-31             0.327127  0.498701         1.671141        40.088069   \n",
       "2014-02-28             0.325838  0.497864         1.667641        40.072429   \n",
       "2014-03-31             0.333114  0.497838         1.679015        40.052483   \n",
       "2014-04-30             0.335768  0.497667         1.653479        40.005932   \n",
       "2014-05-31             0.315266  0.498744         1.656425        39.844335   \n",
       "2014-06-30             0.328598  0.496993         1.663418        39.566120   \n",
       "2014-07-31             0.337122  0.498409         1.645374        39.776586   \n",
       "2014-08-31             0.338317  0.497709         1.663371        39.825056   \n",
       "2014-09-30             0.325614  0.497307         1.639380        40.057252   \n",
       "2014-10-31             0.316711  0.497659         1.629758        40.110782   \n",
       "2014-11-30             0.291712  0.498360         1.691450        40.134937   \n",
       "2014-12-31             0.321453  0.497609         1.675700        40.015100   \n",
       "\n",
       "                  pickup_longitude  rate_code  tip_amount  tolls_amount  \\\n",
       "dropoff_datetime                                                          \n",
       "2014-01-31              -72.775635   1.034423    2.611407      0.282150   \n",
       "2014-02-28              -72.746703   1.034180    2.544093      0.268253   \n",
       "2014-03-31              -72.711277   1.038548    2.640190      0.308108   \n",
       "2014-04-30              -72.625094   1.038344    2.641264      0.331613   \n",
       "2014-05-31              -72.332421   1.032271    2.672895      0.334786   \n",
       "2014-06-30              -71.827344   1.039195    2.730610      0.367482   \n",
       "2014-07-31              -72.209666   1.033644    2.670384      0.317920   \n",
       "2014-08-31              -72.299971   1.036653    2.622636      0.311177   \n",
       "2014-09-30              -72.715414   1.043731    2.725418      0.296997   \n",
       "2014-10-31              -72.815756   1.038673    2.783576      0.363442   \n",
       "2014-11-30              -72.859456   1.037393    2.757321      0.352456   \n",
       "2014-12-31              -72.604147   1.037121    2.706798      0.309800   \n",
       "\n",
       "                  total_amount  trip_distance  \n",
       "dropoff_datetime                               \n",
       "2014-01-31           16.345776       3.003678  \n",
       "2014-02-28           16.136229       2.904452  \n",
       "2014-03-31           16.678138       3.083086  \n",
       "2014-04-30           16.820903       3.088791  \n",
       "2014-05-31           17.174823       3.152301  \n",
       "2014-06-30           17.484384       3.223285  \n",
       "2014-07-31           17.026608       3.201014  \n",
       "2014-08-31           17.031437       3.203253  \n",
       "2014-09-30           17.383466       3.123169  \n",
       "2014-10-31           17.501181       3.243894  \n",
       "2014-11-30           17.394509       3.148902  \n",
       "2014-12-31           17.198750       3.097008  "
      ]
     },
     "execution_count": 18,
     "metadata": {},
     "output_type": "execute_result"
    }
   ],
   "source": [
    "results1 = results_df.set_index('dropoff_datetime')\n",
    "results1.resample('M').mean()"
   ]
  },
  {
   "cell_type": "code",
   "execution_count": 24,
   "metadata": {},
   "outputs": [
    {
     "data": {
      "text/plain": [
       "(0, 20)"
      ]
     },
     "execution_count": 24,
     "metadata": {},
     "output_type": "execute_result"
    },
    {
     "data": {
      "image/png": "[encoded data removed]",
      "text/plain": [
       "<Figure size 1152x432 with 1 Axes>"
      ]
     },
     "metadata": {
      "needs_background": "light"
     },
     "output_type": "display_data"
    }
   ],
   "source": [
    "results1.tip_amount.plot(figsize = (16,6), style='.b')\n",
    "plt.ylim(0, 20)"
   ]
  },
  {
   "cell_type": "code",
   "execution_count": 25,
   "metadata": {},
   "outputs": [
    {
     "data": {
      "text/plain": [
       "<matplotlib.axes._subplots.AxesSubplot at 0x193d5dbb5f8>"
      ]
     },
     "execution_count": 25,
     "metadata": {},
     "output_type": "execute_result"
    },
    {
     "data": {
      "image/png": "[encoded data removed]",
      "text/plain": [
       "<Figure size 432x288 with 1 Axes>"
      ]
     },
     "metadata": {
      "needs_background": "light"
     },
     "output_type": "display_data"
    }
   ],
   "source": [
    "results1.resample('M').mean().tip_amount.plot()"
   ]
  },
  {
   "cell_type": "code",
   "execution_count": 26,
   "metadata": {},
   "outputs": [],
   "source": [
    "_"
   ]
  },
  {
   "cell_type": "code",
   "execution_count": 27,
   "metadata": {},
   "outputs": [
    {
     "data": {
      "text/html": [
       "<div>\n",
       "<style scoped>\n",
       "    .dataframe tbody tr th:only-of-type {\n",
       "        vertical-align: middle;\n",
       "    }\n",
       "\n",
       "    .dataframe tbody tr th {\n",
       "        vertical-align: top;\n",
       "    }\n",
       "\n",
       "    .dataframe thead th {\n",
       "        text-align: right;\n",
       "    }\n",
       "</style>\n",
       "<table border=\"1\" class=\"dataframe\">\n",
       "  <thead>\n",
       "    <tr style=\"text-align: right;\">\n",
       "      <th></th>\n",
       "      <th>dropoff_datetime</th>\n",
       "      <th>dropoff_latitude</th>\n",
       "      <th>dropoff_longitude</th>\n",
       "      <th>extra</th>\n",
       "      <th>fare_amount</th>\n",
       "      <th>mta_tax</th>\n",
       "      <th>passenger_count</th>\n",
       "      <th>payment_type</th>\n",
       "      <th>pickup_datetime</th>\n",
       "      <th>pickup_latitude</th>\n",
       "      <th>pickup_longitude</th>\n",
       "      <th>rate_code</th>\n",
       "      <th>store_and_fwd_flag</th>\n",
       "      <th>tip_amount</th>\n",
       "      <th>tolls_amount</th>\n",
       "      <th>total_amount</th>\n",
       "      <th>trip_distance</th>\n",
       "      <th>vendor_id</th>\n",
       "    </tr>\n",
       "  </thead>\n",
       "  <tbody>\n",
       "    <tr>\n",
       "      <th>0</th>\n",
       "      <td>2015-02-03T20:36:37.000</td>\n",
       "      <td>40.770320892333984</td>\n",
       "      <td>-73.9600830078125</td>\n",
       "      <td>0.5</td>\n",
       "      <td>5.5</td>\n",
       "      <td>0.5</td>\n",
       "      <td>1</td>\n",
       "      <td>1</td>\n",
       "      <td>2015-02-03T20:31:31.000</td>\n",
       "      <td>40.763118743896484</td>\n",
       "      <td>-73.971817016601563</td>\n",
       "      <td>1</td>\n",
       "      <td>N</td>\n",
       "      <td>1.7</td>\n",
       "      <td>0</td>\n",
       "      <td>8.5</td>\n",
       "      <td>1.03</td>\n",
       "      <td>2</td>\n",
       "    </tr>\n",
       "    <tr>\n",
       "      <th>1</th>\n",
       "      <td>2015-01-27T20:03:24.000</td>\n",
       "      <td>40.683986663818359</td>\n",
       "      <td>-73.950706481933594</td>\n",
       "      <td>1</td>\n",
       "      <td>17.5</td>\n",
       "      <td>0.5</td>\n",
       "      <td>1</td>\n",
       "      <td>2</td>\n",
       "      <td>2015-01-27T19:43:22.000</td>\n",
       "      <td>40.731906890869141</td>\n",
       "      <td>-73.985336303710938</td>\n",
       "      <td>1</td>\n",
       "      <td>N</td>\n",
       "      <td>0</td>\n",
       "      <td>0</td>\n",
       "      <td>19.3</td>\n",
       "      <td>4.8</td>\n",
       "      <td>1</td>\n",
       "    </tr>\n",
       "    <tr>\n",
       "      <th>2</th>\n",
       "      <td>2015-06-11T15:11:24.000</td>\n",
       "      <td>40.782260894775391</td>\n",
       "      <td>-73.951461791992188</td>\n",
       "      <td>0</td>\n",
       "      <td>9.5</td>\n",
       "      <td>0.5</td>\n",
       "      <td>2</td>\n",
       "      <td>1</td>\n",
       "      <td>2015-06-11T14:59:52.000</td>\n",
       "      <td>40.786319732666016</td>\n",
       "      <td>-73.972412109375</td>\n",
       "      <td>1</td>\n",
       "      <td>N</td>\n",
       "      <td>2.06</td>\n",
       "      <td>0</td>\n",
       "      <td>12.36</td>\n",
       "      <td>1.65</td>\n",
       "      <td>2</td>\n",
       "    </tr>\n",
       "    <tr>\n",
       "      <th>3</th>\n",
       "      <td>2015-03-06T07:37:46.000</td>\n",
       "      <td>40.774150848388672</td>\n",
       "      <td>-73.871040344238281</td>\n",
       "      <td>0</td>\n",
       "      <td>31</td>\n",
       "      <td>0.5</td>\n",
       "      <td>1</td>\n",
       "      <td>1</td>\n",
       "      <td>2015-03-06T07:12:13.000</td>\n",
       "      <td>40.706840515136719</td>\n",
       "      <td>-74.005279541015625</td>\n",
       "      <td>1</td>\n",
       "      <td>N</td>\n",
       "      <td>5.5</td>\n",
       "      <td>0</td>\n",
       "      <td>37.3</td>\n",
       "      <td>10.51</td>\n",
       "      <td>2</td>\n",
       "    </tr>\n",
       "    <tr>\n",
       "      <th>4</th>\n",
       "      <td>2015-02-13T19:37:11.000</td>\n",
       "      <td>40.757961273193359</td>\n",
       "      <td>-73.975479125976562</td>\n",
       "      <td>1</td>\n",
       "      <td>9.5</td>\n",
       "      <td>0.5</td>\n",
       "      <td>1</td>\n",
       "      <td>1</td>\n",
       "      <td>2015-02-13T19:24:13.000</td>\n",
       "      <td>40.749069213867188</td>\n",
       "      <td>-73.992500305175781</td>\n",
       "      <td>1</td>\n",
       "      <td>N</td>\n",
       "      <td>2.26</td>\n",
       "      <td>0</td>\n",
       "      <td>13.56</td>\n",
       "      <td>1.44</td>\n",
       "      <td>2</td>\n",
       "    </tr>\n",
       "  </tbody>\n",
       "</table>\n",
       "</div>"
      ],
      "text/plain": [
       "          dropoff_datetime    dropoff_latitude    dropoff_longitude extra  \\\n",
       "0  2015-02-03T20:36:37.000  40.770320892333984    -73.9600830078125   0.5   \n",
       "1  2015-01-27T20:03:24.000  40.683986663818359  -73.950706481933594     1   \n",
       "2  2015-06-11T15:11:24.000  40.782260894775391  -73.951461791992188     0   \n",
       "3  2015-03-06T07:37:46.000  40.774150848388672  -73.871040344238281     0   \n",
       "4  2015-02-13T19:37:11.000  40.757961273193359  -73.975479125976562     1   \n",
       "\n",
       "  fare_amount mta_tax passenger_count payment_type          pickup_datetime  \\\n",
       "0         5.5     0.5               1            1  2015-02-03T20:31:31.000   \n",
       "1        17.5     0.5               1            2  2015-01-27T19:43:22.000   \n",
       "2         9.5     0.5               2            1  2015-06-11T14:59:52.000   \n",
       "3          31     0.5               1            1  2015-03-06T07:12:13.000   \n",
       "4         9.5     0.5               1            1  2015-02-13T19:24:13.000   \n",
       "\n",
       "      pickup_latitude     pickup_longitude rate_code store_and_fwd_flag  \\\n",
       "0  40.763118743896484  -73.971817016601563         1                  N   \n",
       "1  40.731906890869141  -73.985336303710938         1                  N   \n",
       "2  40.786319732666016     -73.972412109375         1                  N   \n",
       "3  40.706840515136719  -74.005279541015625         1                  N   \n",
       "4  40.749069213867188  -73.992500305175781         1                  N   \n",
       "\n",
       "  tip_amount tolls_amount total_amount trip_distance vendor_id  \n",
       "0        1.7            0          8.5          1.03         2  \n",
       "1          0            0         19.3           4.8         1  \n",
       "2       2.06            0        12.36          1.65         2  \n",
       "3        5.5            0         37.3         10.51         2  \n",
       "4       2.26            0        13.56          1.44         2  "
      ]
     },
     "execution_count": 27,
     "metadata": {},
     "output_type": "execute_result"
    }
   ],
   "source": [
    "df_2015.head()"
   ]
  },
  {
   "cell_type": "code",
   "execution_count": null,
   "metadata": {},
   "outputs": [],
   "source": []
  }
 ],
 "metadata": {
  "kernelspec": {
   "display_name": "Python 3",
   "language": "python",
   "name": "python3"
  },
  "language_info": {
   "codemirror_mode": {
    "name": "ipython",
    "version": 3
   },
   "file_extension": ".py",
   "mimetype": "text/x-python",
   "name": "python",
   "nbconvert_exporter": "python",
   "pygments_lexer": "ipython3",
   "version": "3.7.3"
  }
 },
 "nbformat": 4,
 "nbformat_minor": 2
}
